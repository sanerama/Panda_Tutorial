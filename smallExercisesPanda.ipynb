{
 "cells": [
  {
   "cell_type": "code",
   "execution_count": 6,
   "metadata": {},
   "outputs": [
    {
     "name": "stdout",
     "output_type": "stream",
     "text": [
      "a     1\n",
      "b     2\n",
      "c     3\n",
      "d     4\n",
      "e     5\n",
      "f     6\n",
      "g     7\n",
      "h     8\n",
      "i     9\n",
      "j    10\n",
      "k    11\n",
      "l    12\n",
      "m    13\n",
      "n    14\n",
      "o    15\n",
      "p    16\n",
      "q    17\n",
      "r    18\n",
      "s    19\n",
      "t    20\n",
      "u    21\n",
      "v    22\n",
      "w    23\n",
      "x    24\n",
      "y    25\n",
      "z    26\n",
      "dtype: int64\n"
     ]
    }
   ],
   "source": [
    "import pandas as pd\n",
    "import numpy as np\n",
    "\n",
    "#creating series from list,numpyarray and dict\n",
    "\n",
    "list1 = list('abcdefghijklmnopqrstuvwxyz')\n",
    "arr1 = np.arange(1,27)\n",
    "dict1 = dict(zip(list1,arr1))\n",
    "\n",
    "ser1 = pd.Series(list1)\n",
    "ser2 = pd.Series(arr1)\n",
    "ser3 = pd.Series(dict1)\n",
    "print(ser3)"
   ]
  },
  {
   "cell_type": "code",
   "execution_count": 27,
   "metadata": {},
   "outputs": [
    {
     "name": "stdout",
     "output_type": "stream",
     "text": [
      "   index   0\n",
      "0      a   1\n",
      "1      b   2\n",
      "2      c   3\n",
      "3      d   4\n",
      "4      e   5\n",
      "5      f   6\n",
      "6      g   7\n",
      "7      h   8\n",
      "8      i   9\n",
      "9      j  10\n",
      "10     k  11\n",
      "11     l  12\n",
      "12     m  13\n",
      "13     n  14\n",
      "14     o  15\n",
      "15     p  16\n",
      "16     q  17\n",
      "17     r  18\n",
      "18     s  19\n",
      "19     t  20\n",
      "20     u  21\n",
      "21     v  22\n",
      "22     w  23\n",
      "23     x  24\n",
      "24     y  25\n",
      "25     z  26\n"
     ]
    }
   ],
   "source": [
    "#convert the index of a series into a column of a dataframe\n",
    "df = ser3.to_frame().reset_index()\n",
    "print(df)"
   ]
  },
  {
   "cell_type": "code",
   "execution_count": 12,
   "metadata": {},
   "outputs": [
    {
     "data": {
      "text/html": [
       "<div>\n",
       "<style scoped>\n",
       "    .dataframe tbody tr th:only-of-type {\n",
       "        vertical-align: middle;\n",
       "    }\n",
       "\n",
       "    .dataframe tbody tr th {\n",
       "        vertical-align: top;\n",
       "    }\n",
       "\n",
       "    .dataframe thead th {\n",
       "        text-align: right;\n",
       "    }\n",
       "</style>\n",
       "<table border=\"1\" class=\"dataframe\">\n",
       "  <thead>\n",
       "    <tr style=\"text-align: right;\">\n",
       "      <th></th>\n",
       "      <th>index</th>\n",
       "      <th>0</th>\n",
       "    </tr>\n",
       "  </thead>\n",
       "  <tbody>\n",
       "    <tr>\n",
       "      <th>0</th>\n",
       "      <td>a</td>\n",
       "      <td>1</td>\n",
       "    </tr>\n",
       "    <tr>\n",
       "      <th>1</th>\n",
       "      <td>b</td>\n",
       "      <td>2</td>\n",
       "    </tr>\n",
       "    <tr>\n",
       "      <th>2</th>\n",
       "      <td>c</td>\n",
       "      <td>3</td>\n",
       "    </tr>\n",
       "    <tr>\n",
       "      <th>3</th>\n",
       "      <td>d</td>\n",
       "      <td>4</td>\n",
       "    </tr>\n",
       "    <tr>\n",
       "      <th>4</th>\n",
       "      <td>e</td>\n",
       "      <td>5</td>\n",
       "    </tr>\n",
       "  </tbody>\n",
       "</table>\n",
       "</div>"
      ],
      "text/plain": [
       "  index  0\n",
       "0     a  1\n",
       "1     b  2\n",
       "2     c  3\n",
       "3     d  4\n",
       "4     e  5"
      ]
     },
     "execution_count": 12,
     "metadata": {},
     "output_type": "execute_result"
    }
   ],
   "source": [
    "df.head()"
   ]
  },
  {
   "cell_type": "code",
   "execution_count": 30,
   "metadata": {},
   "outputs": [
    {
     "data": {
      "text/html": [
       "<div>\n",
       "<style scoped>\n",
       "    .dataframe tbody tr th:only-of-type {\n",
       "        vertical-align: middle;\n",
       "    }\n",
       "\n",
       "    .dataframe tbody tr th {\n",
       "        vertical-align: top;\n",
       "    }\n",
       "\n",
       "    .dataframe thead th {\n",
       "        text-align: right;\n",
       "    }\n",
       "</style>\n",
       "<table border=\"1\" class=\"dataframe\">\n",
       "  <thead>\n",
       "    <tr style=\"text-align: right;\">\n",
       "      <th></th>\n",
       "      <th>1</th>\n",
       "      <th>2</th>\n",
       "    </tr>\n",
       "  </thead>\n",
       "  <tbody>\n",
       "    <tr>\n",
       "      <th>0</th>\n",
       "      <td>a</td>\n",
       "      <td>1</td>\n",
       "    </tr>\n",
       "    <tr>\n",
       "      <th>1</th>\n",
       "      <td>b</td>\n",
       "      <td>2</td>\n",
       "    </tr>\n",
       "    <tr>\n",
       "      <th>2</th>\n",
       "      <td>c</td>\n",
       "      <td>3</td>\n",
       "    </tr>\n",
       "    <tr>\n",
       "      <th>3</th>\n",
       "      <td>d</td>\n",
       "      <td>4</td>\n",
       "    </tr>\n",
       "    <tr>\n",
       "      <th>4</th>\n",
       "      <td>e</td>\n",
       "      <td>5</td>\n",
       "    </tr>\n",
       "  </tbody>\n",
       "</table>\n",
       "</div>"
      ],
      "text/plain": [
       "   1  2\n",
       "0  a  1\n",
       "1  b  2\n",
       "2  c  3\n",
       "3  d  4\n",
       "4  e  5"
      ]
     },
     "execution_count": 30,
     "metadata": {},
     "output_type": "execute_result"
    }
   ],
   "source": [
    "df.columns = ['1','2']\n",
    "df.head()"
   ]
  },
  {
   "cell_type": "code",
   "execution_count": 64,
   "metadata": {},
   "outputs": [
    {
     "name": "stdout",
     "output_type": "stream",
     "text": [
      "     0    1    2    3    4\n",
      "0   aa  bbb  rrr   pp   ff\n",
      "1  123  222  657  324  224\n"
     ]
    }
   ],
   "source": [
    "import pandas as pd\n",
    "#combine many series to form a dataframe\n",
    "ser4 = ('aa', 'bbb', 'rrr', 'pp', 'ff')\n",
    "ser5 = ('123','222', '657', '324', '224')\n",
    "\n",
    "new = pd.DataFrame([ser4,ser5])\n",
    "print(new)"
   ]
  },
  {
   "cell_type": "code",
   "execution_count": 65,
   "metadata": {},
   "outputs": [
    {
     "name": "stdout",
     "output_type": "stream",
     "text": [
      "     0    1\n",
      "0   aa  123\n",
      "1  bbb  222\n",
      "2  rrr  657\n",
      "3   pp  324\n",
      "4   ff  224\n"
     ]
    }
   ],
   "source": [
    "df2 = new.T\n",
    "print(df2)"
   ]
  },
  {
   "cell_type": "code",
   "execution_count": 73,
   "metadata": {},
   "outputs": [
    {
     "name": "stdout",
     "output_type": "stream",
     "text": [
      "      1     2    0    1\n",
      "0     a   1.0  NaN  NaN\n",
      "1     b   2.0  NaN  NaN\n",
      "2     c   3.0  NaN  NaN\n",
      "3     d   4.0  NaN  NaN\n",
      "4     e   5.0  NaN  NaN\n",
      "5     f   6.0  NaN  NaN\n",
      "6     g   7.0  NaN  NaN\n",
      "7     h   8.0  NaN  NaN\n",
      "8     i   9.0  NaN  NaN\n",
      "9     j  10.0  NaN  NaN\n",
      "10    k  11.0  NaN  NaN\n",
      "11    l  12.0  NaN  NaN\n",
      "12    m  13.0  NaN  NaN\n",
      "13    n  14.0  NaN  NaN\n",
      "14    o  15.0  NaN  NaN\n",
      "15    p  16.0  NaN  NaN\n",
      "16    q  17.0  NaN  NaN\n",
      "17    r  18.0  NaN  NaN\n",
      "18    s  19.0  NaN  NaN\n",
      "19    t  20.0  NaN  NaN\n",
      "20    u  21.0  NaN  NaN\n",
      "21    v  22.0  NaN  NaN\n",
      "22    w  23.0  NaN  NaN\n",
      "23    x  24.0  NaN  NaN\n",
      "24    y  25.0  NaN  NaN\n",
      "25    z  26.0  NaN  NaN\n",
      "0   NaN   NaN   aa  123\n",
      "1   NaN   NaN  bbb  222\n",
      "2   NaN   NaN  rrr  657\n",
      "3   NaN   NaN   pp  324\n",
      "4   NaN   NaN   ff  224\n"
     ]
    }
   ],
   "source": [
    "df3 = pd.concat([df,df2])\n",
    "print(df3)\n"
   ]
  },
  {
   "cell_type": "code",
   "execution_count": 74,
   "metadata": {},
   "outputs": [
    {
     "name": "stdout",
     "output_type": "stream",
     "text": [
      "    index    1     2    0    1\n",
      "0       0    a   1.0  NaN  NaN\n",
      "1       1    b   2.0  NaN  NaN\n",
      "2       2    c   3.0  NaN  NaN\n",
      "3       3    d   4.0  NaN  NaN\n",
      "4       4    e   5.0  NaN  NaN\n",
      "5       5    f   6.0  NaN  NaN\n",
      "6       6    g   7.0  NaN  NaN\n",
      "7       7    h   8.0  NaN  NaN\n",
      "8       8    i   9.0  NaN  NaN\n",
      "9       9    j  10.0  NaN  NaN\n",
      "10     10    k  11.0  NaN  NaN\n",
      "11     11    l  12.0  NaN  NaN\n",
      "12     12    m  13.0  NaN  NaN\n",
      "13     13    n  14.0  NaN  NaN\n",
      "14     14    o  15.0  NaN  NaN\n",
      "15     15    p  16.0  NaN  NaN\n",
      "16     16    q  17.0  NaN  NaN\n",
      "17     17    r  18.0  NaN  NaN\n",
      "18     18    s  19.0  NaN  NaN\n",
      "19     19    t  20.0  NaN  NaN\n",
      "20     20    u  21.0  NaN  NaN\n",
      "21     21    v  22.0  NaN  NaN\n",
      "22     22    w  23.0  NaN  NaN\n",
      "23     23    x  24.0  NaN  NaN\n",
      "24     24    y  25.0  NaN  NaN\n",
      "25     25    z  26.0  NaN  NaN\n",
      "26      0  NaN   NaN   aa  123\n",
      "27      1  NaN   NaN  bbb  222\n",
      "28      2  NaN   NaN  rrr  657\n",
      "29      3  NaN   NaN   pp  324\n",
      "30      4  NaN   NaN   ff  224\n"
     ]
    }
   ],
   "source": [
    "final = df3.reset_index()\n",
    "print(final)"
   ]
  },
  {
   "cell_type": "code",
   "execution_count": 76,
   "metadata": {},
   "outputs": [
    {
     "name": "stdout",
     "output_type": "stream",
     "text": [
      "     1    2     3    4    5\n",
      "0    0    a   1.0  NaN  NaN\n",
      "1    1    b   2.0  NaN  NaN\n",
      "2    2    c   3.0  NaN  NaN\n",
      "3    3    d   4.0  NaN  NaN\n",
      "4    4    e   5.0  NaN  NaN\n",
      "5    5    f   6.0  NaN  NaN\n",
      "6    6    g   7.0  NaN  NaN\n",
      "7    7    h   8.0  NaN  NaN\n",
      "8    8    i   9.0  NaN  NaN\n",
      "9    9    j  10.0  NaN  NaN\n",
      "10  10    k  11.0  NaN  NaN\n",
      "11  11    l  12.0  NaN  NaN\n",
      "12  12    m  13.0  NaN  NaN\n",
      "13  13    n  14.0  NaN  NaN\n",
      "14  14    o  15.0  NaN  NaN\n",
      "15  15    p  16.0  NaN  NaN\n",
      "16  16    q  17.0  NaN  NaN\n",
      "17  17    r  18.0  NaN  NaN\n",
      "18  18    s  19.0  NaN  NaN\n",
      "19  19    t  20.0  NaN  NaN\n",
      "20  20    u  21.0  NaN  NaN\n",
      "21  21    v  22.0  NaN  NaN\n",
      "22  22    w  23.0  NaN  NaN\n",
      "23  23    x  24.0  NaN  NaN\n",
      "24  24    y  25.0  NaN  NaN\n",
      "25  25    z  26.0  NaN  NaN\n",
      "26   0  NaN   NaN   aa  123\n",
      "27   1  NaN   NaN  bbb  222\n",
      "28   2  NaN   NaN  rrr  657\n",
      "29   3  NaN   NaN   pp  324\n",
      "30   4  NaN   NaN   ff  224\n"
     ]
    }
   ],
   "source": [
    "final.columns = ['1','2','3','4','5']\n",
    "print(final)"
   ]
  },
  {
   "cell_type": "code",
   "execution_count": null,
   "metadata": {},
   "outputs": [],
   "source": []
  }
 ],
 "metadata": {
  "kernelspec": {
   "display_name": "Python 3",
   "language": "python",
   "name": "python3"
  },
  "language_info": {
   "codemirror_mode": {
    "name": "ipython",
    "version": 3
   },
   "file_extension": ".py",
   "mimetype": "text/x-python",
   "name": "python",
   "nbconvert_exporter": "python",
   "pygments_lexer": "ipython3",
   "version": "3.6.5"
  }
 },
 "nbformat": 4,
 "nbformat_minor": 2
}
