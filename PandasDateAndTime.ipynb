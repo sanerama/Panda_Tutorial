{
 "cells": [
  {
   "cell_type": "code",
   "execution_count": 17,
   "metadata": {},
   "outputs": [
    {
     "name": "stdout",
     "output_type": "stream",
     "text": [
      "DatetimeIndex(['2018-10-25', '2018-10-26', '2018-10-27', '2018-10-28',\n",
      "               '2018-10-29', '2018-10-30', '2018-10-31', '2018-11-01',\n",
      "               '2018-11-02', '2018-11-03', '2018-11-04', '2018-11-05'],\n",
      "              dtype='datetime64[ns]', freq='D')\n"
     ]
    }
   ],
   "source": [
    "import pandas as pd\n",
    "data = pd.date_range('25/10/2018', periods = 12)\n",
    "print(data)\n"
   ]
  },
  {
   "cell_type": "code",
   "execution_count": 20,
   "metadata": {},
   "outputs": [],
   "source": [
    "data_hourly = pd.date_range('25/10/2018', periods = 12, freq = 'H')"
   ]
  },
  {
   "cell_type": "code",
   "execution_count": 21,
   "metadata": {},
   "outputs": [
    {
     "name": "stdout",
     "output_type": "stream",
     "text": [
      "DatetimeIndex(['2018-10-25 00:00:00', '2018-10-25 01:00:00',\n",
      "               '2018-10-25 02:00:00', '2018-10-25 03:00:00',\n",
      "               '2018-10-25 04:00:00', '2018-10-25 05:00:00',\n",
      "               '2018-10-25 06:00:00', '2018-10-25 07:00:00',\n",
      "               '2018-10-25 08:00:00', '2018-10-25 09:00:00',\n",
      "               '2018-10-25 10:00:00', '2018-10-25 11:00:00'],\n",
      "              dtype='datetime64[ns]', freq='H')\n"
     ]
    }
   ],
   "source": [
    "print(data_hourly)"
   ]
  },
  {
   "cell_type": "code",
   "execution_count": null,
   "metadata": {},
   "outputs": [],
   "source": []
  }
 ],
 "metadata": {
  "kernelspec": {
   "display_name": "Python 3",
   "language": "python",
   "name": "python3"
  },
  "language_info": {
   "codemirror_mode": {
    "name": "ipython",
    "version": 3
   },
   "file_extension": ".py",
   "mimetype": "text/x-python",
   "name": "python",
   "nbconvert_exporter": "python",
   "pygments_lexer": "ipython3",
   "version": "3.6.5"
  }
 },
 "nbformat": 4,
 "nbformat_minor": 2
}
