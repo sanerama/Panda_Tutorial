{
 "cells": [
  {
   "cell_type": "code",
   "execution_count": 12,
   "metadata": {},
   "outputs": [
    {
     "name": "stdout",
     "output_type": "stream",
     "text": [
      "  number name\n",
      "0     12    a\n",
      "1     23    b\n",
      "2     34    c\n",
      "3     45    d\n"
     ]
    }
   ],
   "source": [
    "import pandas as pd\n",
    "l1 = ['12','23','34','45']\n",
    "d = pd.DataFrame(l1)\n",
    "d[1] = ['a', 'b', 'c', 'd']\n",
    "d.columns = ['number', 'name']\n",
    "print(d)\n"
   ]
  },
  {
   "cell_type": "code",
   "execution_count": null,
   "metadata": {},
   "outputs": [],
   "source": []
  },
  {
   "cell_type": "code",
   "execution_count": null,
   "metadata": {},
   "outputs": [],
   "source": []
  }
 ],
 "metadata": {
  "kernelspec": {
   "display_name": "Python 3",
   "language": "python",
   "name": "python3"
  },
  "language_info": {
   "codemirror_mode": {
    "name": "ipython",
    "version": 3
   },
   "file_extension": ".py",
   "mimetype": "text/x-python",
   "name": "python",
   "nbconvert_exporter": "python",
   "pygments_lexer": "ipython3",
   "version": "3.6.5"
  }
 },
 "nbformat": 4,
 "nbformat_minor": 2
}
