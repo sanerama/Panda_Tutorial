{
 "cells": [
  {
   "cell_type": "code",
   "execution_count": 66,
   "metadata": {},
   "outputs": [
    {
     "name": "stdout",
     "output_type": "stream",
     "text": [
      "             A   B\n",
      "2018-10-29   1   9\n",
      "2018-10-30   2   2\n",
      "2018-10-31   3   5\n",
      "2018-11-01   4   3\n",
      "2018-11-02   6   7\n",
      "2018-11-03   8  89\n",
      "2018-11-04   5  54\n",
      "2018-11-05  78  23\n"
     ]
    }
   ],
   "source": [
    "import pandas as pd\n",
    "import numpy as np\n",
    "s = pd.DataFrame({'A':[1,2,3,4,6,8,5,78], \n",
    "                  'B':[9,2,5,3,7,89,54,23]}, index = pd.date_range('29/10/2018', periods = 8))\n",
    "print(s)\n"
   ]
  },
  {
   "cell_type": "code",
   "execution_count": 67,
   "metadata": {},
   "outputs": [
    {
     "data": {
      "text/html": [
       "<div>\n",
       "<style scoped>\n",
       "    .dataframe tbody tr th:only-of-type {\n",
       "        vertical-align: middle;\n",
       "    }\n",
       "\n",
       "    .dataframe tbody tr th {\n",
       "        vertical-align: top;\n",
       "    }\n",
       "\n",
       "    .dataframe thead th {\n",
       "        text-align: right;\n",
       "    }\n",
       "</style>\n",
       "<table border=\"1\" class=\"dataframe\">\n",
       "  <thead>\n",
       "    <tr style=\"text-align: right;\">\n",
       "      <th></th>\n",
       "      <th>A</th>\n",
       "      <th>B</th>\n",
       "      <th>C</th>\n",
       "    </tr>\n",
       "  </thead>\n",
       "  <tbody>\n",
       "    <tr>\n",
       "      <th>2018-10-29</th>\n",
       "      <td>1</td>\n",
       "      <td>9</td>\n",
       "      <td>aa</td>\n",
       "    </tr>\n",
       "    <tr>\n",
       "      <th>2018-10-30</th>\n",
       "      <td>2</td>\n",
       "      <td>2</td>\n",
       "      <td>bb</td>\n",
       "    </tr>\n",
       "    <tr>\n",
       "      <th>2018-10-31</th>\n",
       "      <td>3</td>\n",
       "      <td>5</td>\n",
       "      <td>cc</td>\n",
       "    </tr>\n",
       "    <tr>\n",
       "      <th>2018-11-01</th>\n",
       "      <td>4</td>\n",
       "      <td>3</td>\n",
       "      <td>dd</td>\n",
       "    </tr>\n",
       "    <tr>\n",
       "      <th>2018-11-02</th>\n",
       "      <td>6</td>\n",
       "      <td>7</td>\n",
       "      <td>ee</td>\n",
       "    </tr>\n",
       "    <tr>\n",
       "      <th>2018-11-03</th>\n",
       "      <td>8</td>\n",
       "      <td>89</td>\n",
       "      <td>ff</td>\n",
       "    </tr>\n",
       "    <tr>\n",
       "      <th>2018-11-04</th>\n",
       "      <td>5</td>\n",
       "      <td>54</td>\n",
       "      <td>gg</td>\n",
       "    </tr>\n",
       "    <tr>\n",
       "      <th>2018-11-05</th>\n",
       "      <td>78</td>\n",
       "      <td>23</td>\n",
       "      <td>nn</td>\n",
       "    </tr>\n",
       "  </tbody>\n",
       "</table>\n",
       "</div>"
      ],
      "text/plain": [
       "             A   B   C\n",
       "2018-10-29   1   9  aa\n",
       "2018-10-30   2   2  bb\n",
       "2018-10-31   3   5  cc\n",
       "2018-11-01   4   3  dd\n",
       "2018-11-02   6   7  ee\n",
       "2018-11-03   8  89  ff\n",
       "2018-11-04   5  54  gg\n",
       "2018-11-05  78  23  nn"
      ]
     },
     "execution_count": 67,
     "metadata": {},
     "output_type": "execute_result"
    }
   ],
   "source": [
    "s['C'] = ['aa', 'bb', 'cc', 'dd', 'ee', 'ff', 'gg', 'nn']\n",
    "s"
   ]
  },
  {
   "cell_type": "code",
   "execution_count": 68,
   "metadata": {},
   "outputs": [
    {
     "data": {
      "text/html": [
       "<div>\n",
       "<style scoped>\n",
       "    .dataframe tbody tr th:only-of-type {\n",
       "        vertical-align: middle;\n",
       "    }\n",
       "\n",
       "    .dataframe tbody tr th {\n",
       "        vertical-align: top;\n",
       "    }\n",
       "\n",
       "    .dataframe thead th {\n",
       "        text-align: right;\n",
       "    }\n",
       "</style>\n",
       "<table border=\"1\" class=\"dataframe\">\n",
       "  <thead>\n",
       "    <tr style=\"text-align: right;\">\n",
       "      <th></th>\n",
       "      <th>first</th>\n",
       "      <th>second</th>\n",
       "      <th>third</th>\n",
       "    </tr>\n",
       "  </thead>\n",
       "  <tbody>\n",
       "    <tr>\n",
       "      <th>2018-10-29</th>\n",
       "      <td>1</td>\n",
       "      <td>9</td>\n",
       "      <td>aa</td>\n",
       "    </tr>\n",
       "    <tr>\n",
       "      <th>2018-10-30</th>\n",
       "      <td>2</td>\n",
       "      <td>2</td>\n",
       "      <td>bb</td>\n",
       "    </tr>\n",
       "    <tr>\n",
       "      <th>2018-10-31</th>\n",
       "      <td>3</td>\n",
       "      <td>5</td>\n",
       "      <td>cc</td>\n",
       "    </tr>\n",
       "    <tr>\n",
       "      <th>2018-11-01</th>\n",
       "      <td>4</td>\n",
       "      <td>3</td>\n",
       "      <td>dd</td>\n",
       "    </tr>\n",
       "    <tr>\n",
       "      <th>2018-11-02</th>\n",
       "      <td>6</td>\n",
       "      <td>7</td>\n",
       "      <td>ee</td>\n",
       "    </tr>\n",
       "    <tr>\n",
       "      <th>2018-11-03</th>\n",
       "      <td>8</td>\n",
       "      <td>89</td>\n",
       "      <td>ff</td>\n",
       "    </tr>\n",
       "    <tr>\n",
       "      <th>2018-11-04</th>\n",
       "      <td>5</td>\n",
       "      <td>54</td>\n",
       "      <td>gg</td>\n",
       "    </tr>\n",
       "    <tr>\n",
       "      <th>2018-11-05</th>\n",
       "      <td>78</td>\n",
       "      <td>23</td>\n",
       "      <td>nn</td>\n",
       "    </tr>\n",
       "  </tbody>\n",
       "</table>\n",
       "</div>"
      ],
      "text/plain": [
       "            first  second third\n",
       "2018-10-29      1       9    aa\n",
       "2018-10-30      2       2    bb\n",
       "2018-10-31      3       5    cc\n",
       "2018-11-01      4       3    dd\n",
       "2018-11-02      6       7    ee\n",
       "2018-11-03      8      89    ff\n",
       "2018-11-04      5      54    gg\n",
       "2018-11-05     78      23    nn"
      ]
     },
     "execution_count": 68,
     "metadata": {},
     "output_type": "execute_result"
    }
   ],
   "source": [
    "s.columns = ['first','second','third']\n",
    "s\n",
    "\n",
    "\n",
    "\n"
   ]
  },
  {
   "cell_type": "code",
   "execution_count": 58,
   "metadata": {},
   "outputs": [],
   "source": [
    "#setting new column autometically\n",
    "s1 = pd.Series([1,2,3,4,5,6,7,8,9,10], index = pd.date_range('29/10/2018', periods = 10))"
   ]
  },
  {
   "cell_type": "code",
   "execution_count": 59,
   "metadata": {},
   "outputs": [
    {
     "data": {
      "text/plain": [
       "2018-10-29     1\n",
       "2018-10-30     2\n",
       "2018-10-31     3\n",
       "2018-11-01     4\n",
       "2018-11-02     5\n",
       "2018-11-03     6\n",
       "2018-11-04     7\n",
       "2018-11-05     8\n",
       "2018-11-06     9\n",
       "2018-11-07    10\n",
       "Freq: D, dtype: int64"
      ]
     },
     "execution_count": 59,
     "metadata": {},
     "output_type": "execute_result"
    }
   ],
   "source": [
    "s1"
   ]
  },
  {
   "cell_type": "code",
   "execution_count": 74,
   "metadata": {},
   "outputs": [],
   "source": [
    "s['forth'] = s1"
   ]
  },
  {
   "cell_type": "code",
   "execution_count": 73,
   "metadata": {},
   "outputs": [
    {
     "name": "stdout",
     "output_type": "stream",
     "text": [
      "            first  second third  fifth  forth\n",
      "2018-10-29      1       9    aa    NaN      1\n",
      "2018-10-30      2       2    bb    NaN      2\n",
      "2018-10-31      3       5    cc    NaN      3\n",
      "2018-11-01      4       3    dd    NaN      4\n",
      "2018-11-02      6       7    ee    NaN      5\n",
      "2018-11-03      8      89    ff    NaN      6\n",
      "2018-11-04      5      54    gg    NaN      7\n",
      "2018-11-05     78      23    nn    NaN      8\n"
     ]
    }
   ],
   "source": [
    "print(s)"
   ]
  },
  {
   "cell_type": "code",
   "execution_count": 76,
   "metadata": {},
   "outputs": [
    {
     "name": "stdout",
     "output_type": "stream",
     "text": [
      "            first  second third  fifth  forth\n",
      "2018-10-29      1       9    aa    NaN      1\n",
      "2018-10-30      2       2    bb    NaN      2\n",
      "2018-10-31      3       5    cc    NaN      3\n",
      "2018-11-01      4       3    dd    NaN      4\n",
      "2018-11-02      6       7    ee    NaN      5\n",
      "2018-11-03      8      89    ff    NaN      6\n",
      "2018-11-04      5      54    gg    NaN      7\n",
      "2018-11-05     78      23    nn    NaN      8\n"
     ]
    }
   ],
   "source": [
    "s2 = pd.Series([1,2,3,4,4,5,6,7,8])\n",
    "s['fifth'] = s2\n",
    "print(s)"
   ]
  },
  {
   "cell_type": "code",
   "execution_count": 79,
   "metadata": {},
   "outputs": [],
   "source": [
    "#Setting values by lable\n",
    "\n",
    "s.at['second'] = 0\n"
   ]
  },
  {
   "cell_type": "code",
   "execution_count": 80,
   "metadata": {},
   "outputs": [
    {
     "name": "stdout",
     "output_type": "stream",
     "text": [
      "                     first  second third  fifth  forth\n",
      "2018-10-29 00:00:00    1.0     9.0    aa    NaN    1.0\n",
      "2018-10-30 00:00:00    2.0     2.0    bb    NaN    2.0\n",
      "2018-10-31 00:00:00    3.0     5.0    cc    NaN    3.0\n",
      "2018-11-01 00:00:00    4.0     3.0    dd    NaN    4.0\n",
      "2018-11-02 00:00:00    6.0     7.0    ee    NaN    5.0\n",
      "2018-11-03 00:00:00    8.0    89.0    ff    NaN    6.0\n",
      "2018-11-04 00:00:00    5.0    54.0    gg    NaN    7.0\n",
      "2018-11-05 00:00:00   78.0    23.0    nn    NaN    8.0\n",
      "second                 0.0     0.0     0    0.0    0.0\n"
     ]
    }
   ],
   "source": [
    "print(s)"
   ]
  },
  {
   "cell_type": "code",
   "execution_count": 81,
   "metadata": {},
   "outputs": [],
   "source": [
    "s.at[3,['third']] = 1"
   ]
  },
  {
   "cell_type": "code",
   "execution_count": 82,
   "metadata": {},
   "outputs": [
    {
     "name": "stdout",
     "output_type": "stream",
     "text": [
      "                     first  second third  fifth  forth\n",
      "2018-10-29 00:00:00    1.0     9.0    aa    NaN    1.0\n",
      "2018-10-30 00:00:00    2.0     2.0    bb    NaN    2.0\n",
      "2018-10-31 00:00:00    3.0     5.0    cc    NaN    3.0\n",
      "2018-11-01 00:00:00    4.0     3.0    dd    NaN    4.0\n",
      "2018-11-02 00:00:00    6.0     7.0    ee    NaN    5.0\n",
      "2018-11-03 00:00:00    8.0    89.0    ff    NaN    6.0\n",
      "2018-11-04 00:00:00    5.0    54.0    gg    NaN    7.0\n",
      "2018-11-05 00:00:00   78.0    23.0    nn    NaN    8.0\n",
      "second                 0.0     0.0     0    0.0    0.0\n",
      "3                      NaN     NaN     1    NaN    NaN\n"
     ]
    }
   ],
   "source": [
    "print(s)"
   ]
  },
  {
   "cell_type": "code",
   "execution_count": 86,
   "metadata": {},
   "outputs": [
    {
     "name": "stdout",
     "output_type": "stream",
     "text": [
      "                     first  second third  fifth  forth\n",
      "2018-10-29 00:00:00    1.0     9.0    aa    NaN    1.0\n",
      "2018-10-30 00:00:00    2.0     2.0    bb    NaN    2.0\n",
      "2018-10-31 00:00:00    3.0     5.0    cc    NaN    3.0\n",
      "2018-11-01 00:00:00    4.0     3.0    dd    NaN    4.0\n",
      "2018-11-02 00:00:00    6.0     7.0    ee    NaN    5.0\n",
      "2018-11-03 00:00:00    8.0    89.0    ff    NaN    6.0\n",
      "2018-11-04 00:00:00    5.0    54.0    gg    NaN    7.0\n",
      "2018-11-05 00:00:00   78.0    23.0    nn    NaN    8.0\n",
      "second                 0.0     0.0     0    0.0    0.0\n",
      "3                      NaN     NaN     1    NaN    NaN\n",
      "2018-11-02             5.0     5.0     5    5.0    5.0\n",
      "2018-11-06             5.0     5.0     5    5.0    5.0\n"
     ]
    }
   ],
   "source": [
    "s.at['2018-11-06']=5\n",
    "print(s)\n"
   ]
  },
  {
   "cell_type": "code",
   "execution_count": 87,
   "metadata": {},
   "outputs": [
    {
     "name": "stdout",
     "output_type": "stream",
     "text": [
      "                     first  second third  fifth  forth\n",
      "2018-10-29 00:00:00    1.0     0.0    aa    NaN    1.0\n",
      "2018-10-30 00:00:00    2.0     2.0    bb    NaN    2.0\n",
      "2018-10-31 00:00:00    3.0     5.0    cc    NaN    3.0\n",
      "2018-11-01 00:00:00    4.0     3.0    dd    NaN    4.0\n",
      "2018-11-02 00:00:00    6.0     7.0    ee    NaN    5.0\n",
      "2018-11-03 00:00:00    8.0    89.0    ff    NaN    6.0\n",
      "2018-11-04 00:00:00    5.0    54.0    gg    NaN    7.0\n",
      "2018-11-05 00:00:00   78.0    23.0    nn    NaN    8.0\n",
      "second                 0.0     0.0     0    0.0    0.0\n",
      "3                      NaN     NaN     1    NaN    NaN\n",
      "2018-11-02             5.0     5.0     5    5.0    5.0\n",
      "2018-11-06             5.0     5.0     5    5.0    5.0\n"
     ]
    }
   ],
   "source": [
    "#Setting by positin\n",
    "s.iat[0,1] = 0\n",
    "print(s)"
   ]
  },
  {
   "cell_type": "code",
   "execution_count": 89,
   "metadata": {},
   "outputs": [
    {
     "name": "stdout",
     "output_type": "stream",
     "text": [
      "                     first  second third  fifth  forth\n",
      "2018-10-29 00:00:00    1.0     0.0    aa      6    1.0\n",
      "2018-10-30 00:00:00    2.0     2.0    bb      6    2.0\n",
      "2018-10-31 00:00:00    3.0     5.0    cc      6    3.0\n",
      "2018-11-01 00:00:00    4.0     3.0    dd      6    4.0\n",
      "2018-11-02 00:00:00    6.0     7.0    ee      6    5.0\n",
      "2018-11-03 00:00:00    8.0    89.0    ff      6    6.0\n",
      "2018-11-04 00:00:00    5.0    54.0    gg      6    7.0\n",
      "2018-11-05 00:00:00   78.0    23.0    nn      6    8.0\n",
      "second                 0.0     0.0     0      6    0.0\n",
      "3                      NaN     NaN     1      6    NaN\n",
      "2018-11-02             5.0     5.0     5      6    5.0\n",
      "2018-11-06             5.0     5.0     5      6    5.0\n"
     ]
    }
   ],
   "source": [
    "s.loc[:,'fifth'] = np.array([6] * len(s))\n",
    "print(s)"
   ]
  },
  {
   "cell_type": "code",
   "execution_count": null,
   "metadata": {},
   "outputs": [],
   "source": []
  }
 ],
 "metadata": {
  "kernelspec": {
   "display_name": "Python 3",
   "language": "python",
   "name": "python3"
  },
  "language_info": {
   "codemirror_mode": {
    "name": "ipython",
    "version": 3
   },
   "file_extension": ".py",
   "mimetype": "text/x-python",
   "name": "python",
   "nbconvert_exporter": "python",
   "pygments_lexer": "ipython3",
   "version": "3.6.5"
  }
 },
 "nbformat": 4,
 "nbformat_minor": 2
}
