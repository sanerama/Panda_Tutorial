{
 "cells": [
  {
   "cell_type": "code",
   "execution_count": 9,
   "metadata": {},
   "outputs": [
    {
     "name": "stdout",
     "output_type": "stream",
     "text": [
      "0      4\n",
      "1     15\n",
      "2     16\n",
      "3      4\n",
      "4      7\n",
      "5     15\n",
      "6      1\n",
      "7      8\n",
      "8     16\n",
      "9     15\n",
      "10    15\n",
      "11     8\n",
      "12     5\n",
      "13     2\n",
      "14    18\n",
      "15     1\n",
      "16     6\n",
      "17    19\n",
      "18     8\n",
      "19     3\n",
      "20    18\n",
      "21    19\n",
      "22    18\n",
      "23     1\n",
      "24    17\n",
      "dtype: int64\n"
     ]
    }
   ],
   "source": [
    "import pandas as pd\n",
    "import numpy as np\n",
    "ser = pd.Series(np.random.randint(1,20,25))\n",
    "print(ser)"
   ]
  },
  {
   "cell_type": "code",
   "execution_count": 10,
   "metadata": {},
   "outputs": [],
   "source": [
    "df = pd.DataFrame(ser.values.reshape(5,5))"
   ]
  },
  {
   "cell_type": "code",
   "execution_count": 11,
   "metadata": {},
   "outputs": [
    {
     "name": "stdout",
     "output_type": "stream",
     "text": [
      "    0   1   2   3   4\n",
      "0   4  15  16   4   7\n",
      "1  15   1   8  16  15\n",
      "2  15   8   5   2  18\n",
      "3   1   6  19   8   3\n",
      "4  18  19  18   1  17\n"
     ]
    }
   ],
   "source": [
    "print(df)"
   ]
  },
  {
   "cell_type": "code",
   "execution_count": null,
   "metadata": {},
   "outputs": [],
   "source": []
  }
 ],
 "metadata": {
  "kernelspec": {
   "display_name": "Python 3",
   "language": "python",
   "name": "python3"
  },
  "language_info": {
   "codemirror_mode": {
    "name": "ipython",
    "version": 3
   },
   "file_extension": ".py",
   "mimetype": "text/x-python",
   "name": "python",
   "nbconvert_exporter": "python",
   "pygments_lexer": "ipython3",
   "version": "3.6.5"
  }
 },
 "nbformat": 4,
 "nbformat_minor": 2
}
