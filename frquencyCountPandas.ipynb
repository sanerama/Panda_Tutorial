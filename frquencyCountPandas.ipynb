{
 "cells": [
  {
   "cell_type": "code",
   "execution_count": 6,
   "metadata": {},
   "outputs": [
    {
     "name": "stdout",
     "output_type": "stream",
     "text": [
      "0     d\n",
      "1     b\n",
      "2     h\n",
      "3     f\n",
      "4     e\n",
      "5     a\n",
      "6     b\n",
      "7     f\n",
      "8     c\n",
      "9     d\n",
      "10    a\n",
      "11    e\n",
      "12    f\n",
      "13    d\n",
      "14    c\n",
      "15    h\n",
      "16    f\n",
      "17    c\n",
      "18    g\n",
      "19    e\n",
      "20    e\n",
      "21    h\n",
      "22    f\n",
      "23    b\n",
      "24    a\n",
      "25    g\n",
      "26    c\n",
      "27    d\n",
      "28    h\n",
      "29    f\n",
      "dtype: object\n"
     ]
    }
   ],
   "source": [
    "import pandas as pd\n",
    "import numpy as np\n",
    "ser = pd.Series(np.take(list('abcdefgh'), np.random.randint(8, size=30)))\n",
    "print(ser)"
   ]
  },
  {
   "cell_type": "code",
   "execution_count": 18,
   "metadata": {},
   "outputs": [
    {
     "name": "stdout",
     "output_type": "stream",
     "text": [
      "0     Other\n",
      "1     Other\n",
      "2     Other\n",
      "3         f\n",
      "4     Other\n",
      "5     Other\n",
      "6     Other\n",
      "7         f\n",
      "8     Other\n",
      "9     Other\n",
      "10    Other\n",
      "11    Other\n",
      "12        f\n",
      "13    Other\n",
      "14    Other\n",
      "15    Other\n",
      "16        f\n",
      "17    Other\n",
      "18    Other\n",
      "19    Other\n",
      "20    Other\n",
      "21    Other\n",
      "22        f\n",
      "23    Other\n",
      "24    Other\n",
      "25    Other\n",
      "26    Other\n",
      "27    Other\n",
      "28    Other\n",
      "29        f\n",
      "dtype: object\n"
     ]
    }
   ],
   "source": [
    "\n",
    "ser[~ser.isin(ser.value_counts().index[:2])] = \"Other\"\n",
    "\n",
    "print(ser)"
   ]
  },
  {
   "cell_type": "code",
   "execution_count": 19,
   "metadata": {},
   "outputs": [
    {
     "name": "stdout",
     "output_type": "stream",
     "text": [
      "\n",
      "0     Other\n",
      "1     Other\n",
      "2     Other\n",
      "3         f\n",
      "4     Other\n",
      "5     Other\n",
      "6     Other\n",
      "7         f\n",
      "8     Other\n",
      "9     Other\n",
      "10    Other\n",
      "11    Other\n",
      "12        f\n",
      "13    Other\n",
      "14    Other\n",
      "15    Other\n",
      "16        f\n",
      "17    Other\n",
      "18    Other\n",
      "19    Other\n",
      "20    Other\n",
      "21    Other\n",
      "22        f\n",
      "23    Other\n",
      "24    Other\n",
      "25    Other\n",
      "26    Other\n",
      "27    Other\n",
      "28    Other\n",
      "29        f\n",
      "dtype: object\n"
     ]
    }
   ],
   "source": [
    "print()\n",
    "ser.value_counts()\n",
    "print(ser)"
   ]
  },
  {
   "cell_type": "code",
   "execution_count": null,
   "metadata": {},
   "outputs": [],
   "source": []
  }
 ],
 "metadata": {
  "kernelspec": {
   "display_name": "Python 3",
   "language": "python",
   "name": "python3"
  },
  "language_info": {
   "codemirror_mode": {
    "name": "ipython",
    "version": 3
   },
   "file_extension": ".py",
   "mimetype": "text/x-python",
   "name": "python",
   "nbconvert_exporter": "python",
   "pygments_lexer": "ipython3",
   "version": "3.6.5"
  }
 },
 "nbformat": 4,
 "nbformat_minor": 2
}
